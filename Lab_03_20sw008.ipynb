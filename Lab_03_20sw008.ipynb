{
  "nbformat": 4,
  "nbformat_minor": 0,
  "metadata": {
    "colab": {
      "provenance": [],
      "authorship_tag": "ABX9TyN4XvHSNuAn73K0SrjEKSeT",
      "include_colab_link": true
    },
    "kernelspec": {
      "name": "python3",
      "display_name": "Python 3"
    },
    "language_info": {
      "name": "python"
    }
  },
  "cells": [
    {
      "cell_type": "markdown",
      "metadata": {
        "id": "view-in-github",
        "colab_type": "text"
      },
      "source": [
        "<a href=\"https://colab.research.google.com/github/ALiMehran01/20SW008/blob/main/Lab_03_20sw008.ipynb\" target=\"_parent\"><img src=\"https://colab.research.google.com/assets/colab-badge.svg\" alt=\"Open In Colab\"/></a>"
      ]
    },
    {
      "cell_type": "markdown",
      "source": [
        "Lab 03 To become familiar with functions and script in Python\n",
        "Roll NO 20sw008\n",
        "Section 2"
      ],
      "metadata": {
        "id": "Sg-VR4npVSLa"
      }
    },
    {
      "cell_type": "markdown",
      "source": [
        "Task-01"
      ],
      "metadata": {
        "id": "ySzxDKDgaDp2"
      }
    },
    {
      "cell_type": "code",
      "source": [
        "def population_density(population, land_area):\n",
        "    return population / land_area\n",
        "\n",
        "test1 = population_density(10, 1)\n",
        "expected_result1 = 10\n",
        "print(\"expected result: {}, actual result: {}\".format(expected_result1, test1))\n",
        "\n",
        "test2 = population_density(864816, 121.4)\n",
        "expected_result2 = 7123.6902801\n",
        "print(\"expected result: {}..., actual result: {}\".format(expected_result2, test2))"
      ],
      "metadata": {
        "colab": {
          "base_uri": "https://localhost:8080/"
        },
        "id": "xecOV3OaZ2_D",
        "outputId": "e9082f01-5b0f-483e-9a86-24a378445fe6"
      },
      "execution_count": 1,
      "outputs": [
        {
          "output_type": "stream",
          "name": "stdout",
          "text": [
            "expected result: 10, actual result: 10.0\n",
            "expected result: 7123.6902801..., actual result: 7123.690280065897\n"
          ]
        }
      ]
    },
    {
      "cell_type": "markdown",
      "source": [
        "Task-02"
      ],
      "metadata": {
        "id": "C3bB0f5RaCc-"
      }
    },
    {
      "cell_type": "code",
      "source": [
        "def readable_timedelta(days):\n",
        "\n",
        "    week = int(days / 7)\n",
        "    day = int(days % 7)\n",
        "    return \"{} week(s) and {} day(s)\".format(week, day)\n",
        "\n",
        "print(readable_timedelta(10))\n",
        "\n"
      ],
      "metadata": {
        "colab": {
          "base_uri": "https://localhost:8080/"
        },
        "id": "pA0KwMGWaKC5",
        "outputId": "5142bbc6-752e-4377-cc7c-418490e19f9c"
      },
      "execution_count": 2,
      "outputs": [
        {
          "output_type": "stream",
          "name": "stdout",
          "text": [
            "1 week(s) and 3 day(s)\n"
          ]
        }
      ]
    },
    {
      "cell_type": "markdown",
      "source": [
        "Task-03"
      ],
      "metadata": {
        "id": "IUKmyx4waQ8d"
      }
    },
    {
      "cell_type": "code",
      "source": [
        "numbers = [\n",
        "              [34, 63, 88, 71, 29],\n",
        "              [90, 78, 51, 27, 45],\n",
        "              [63, 37, 85, 46, 22],\n",
        "              [51, 22, 34, 11, 18]\n",
        "           ]\n",
        "\n",
        "def mean(num_list):\n",
        "    return sum(num_list) / len(num_list)\n",
        "\n",
        "averages = list(map(mean, numbers))\n",
        "print(averages)"
      ],
      "metadata": {
        "colab": {
          "base_uri": "https://localhost:8080/"
        },
        "id": "KcZDFCtxaUMn",
        "outputId": "f94fcc45-315e-4495-b45d-85699861a54f"
      },
      "execution_count": 3,
      "outputs": [
        {
          "output_type": "stream",
          "name": "stdout",
          "text": [
            "[57.0, 58.2, 50.6, 27.2]\n"
          ]
        }
      ]
    },
    {
      "cell_type": "markdown",
      "source": [
        "Task-04"
      ],
      "metadata": {
        "id": "IkR_ST3Palyq"
      }
    },
    {
      "cell_type": "code",
      "source": [
        "cities = [\"New York City\", \"Los Angeles\", \"Chicago\", \"Mountain View\", \"Denver\", \"Boston\"]\n",
        "\n",
        "short_cities = list(filter(lambda city: len(city) < 10, cities))\n",
        "\n",
        "print(short_cities)"
      ],
      "metadata": {
        "colab": {
          "base_uri": "https://localhost:8080/"
        },
        "id": "TwsenTCBaoUr",
        "outputId": "170b14ff-1324-47bc-dc51-a46e8ff6232e"
      },
      "execution_count": 4,
      "outputs": [
        {
          "output_type": "stream",
          "name": "stdout",
          "text": [
            "['Chicago', 'Denver', 'Boston']\n"
          ]
        }
      ]
    },
    {
      "cell_type": "markdown",
      "source": [
        "Task-05"
      ],
      "metadata": {
        "id": "7Cg7in5waxIm"
      }
    },
    {
      "cell_type": "code",
      "source": [
        "names = input('Enter names seperated by commas: ').title().split(',')\n",
        "assignments = input('Enter assignment counts seperated by commas: ').split(',')\n",
        "grades = input('Enter grades separated by commas: ').split(',')\n",
        "\n",
        "message = \"Hi {},\\n\\nThis is a reminder that you have {} assignments left to \\\n",
        "submit before you can graduate. You're current grade is {} and can increase \\\n",
        "to {} if you submit all assignments before the due date.\\n\\n\"\n",
        "\n",
        "for name, assignment, grade in zip(names, assignments, grades):\n",
        "    print(message.format(name, assignment, grade, int(grade) + int(assignment) * 2))"
      ],
      "metadata": {
        "colab": {
          "base_uri": "https://localhost:8080/"
        },
        "id": "1C54UO4Qa0xm",
        "outputId": "3a48f75d-9aa3-40b3-8a74-d57be1f37dea"
      },
      "execution_count": 5,
      "outputs": [
        {
          "output_type": "stream",
          "name": "stdout",
          "text": [
            "Enter names seperated by commas: a, l,i\n",
            "Enter assignment counts seperated by commas: 3\n",
            "Enter grades separated by commas: 2\n",
            "Hi A,\n",
            "\n",
            "This is a reminder that you have 3 assignments left to submit before you can graduate. You're current grade is 2 and can increase to 8 if you submit all assignments before the due date.\n",
            "\n",
            "\n"
          ]
        }
      ]
    },
    {
      "cell_type": "markdown",
      "source": [
        "Task-06"
      ],
      "metadata": {
        "id": "CjNjbDulbOLU"
      }
    },
    {
      "cell_type": "code",
      "source": [
        "with open(\"/content/drive/MyDrive/camelot.txt\") as song:\n",
        "    print(song.read(2))\n",
        "    print(song.read(8))\n",
        "    print(song.read())\n",
        "\n",
        "camelot_lines = []\n",
        "with open(\"/content/drive/MyDrive/camelot.txt\") as f:\n",
        "    for line in f:\n",
        "        camelot_lines.append(line.strip())\n",
        "\n",
        "print(camelot_lines)\n"
      ],
      "metadata": {
        "id": "lWsGIHtAditl"
      },
      "execution_count": null,
      "outputs": []
    },
    {
      "cell_type": "markdown",
      "source": [
        "Task-07"
      ],
      "metadata": {
        "id": "OribTnjId880"
      }
    },
    {
      "cell_type": "code",
      "source": [
        "def create_cast_list(filename):\n",
        "    cast_list = []\n",
        "    # use with to open the file filename\n",
        "    with open(\"/content/drive/MyDrive/flying_circus_cast.txt\") as f:\n",
        "        # use the for loop syntax to process each line\n",
        "        # and add the actor name to cast_list\n",
        "        for line in f:\n",
        "            line_data = line.split(',')\n",
        "            cast_list.append(line_data[0])\n",
        "    return cast_list\n",
        "\n",
        "\n",
        "print(create_cast_list('flying_circus_cast.txt'))"
      ],
      "metadata": {
        "id": "UmD4_ocAeR1A"
      },
      "execution_count": null,
      "outputs": []
    }
  ]
}