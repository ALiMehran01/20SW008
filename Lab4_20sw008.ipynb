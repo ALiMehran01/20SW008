{
  "nbformat": 4,
  "nbformat_minor": 0,
  "metadata": {
    "colab": {
      "provenance": [],
      "authorship_tag": "ABX9TyPqjByYd7yohOcQfXh+F0Zc",
      "include_colab_link": true
    },
    "kernelspec": {
      "name": "python3",
      "display_name": "Python 3"
    },
    "language_info": {
      "name": "python"
    }
  },
  "cells": [
    {
      "cell_type": "markdown",
      "metadata": {
        "id": "view-in-github",
        "colab_type": "text"
      },
      "source": [
        "<a href=\"https://colab.research.google.com/github/ALiMehran01/20SW008/blob/main/Lab4_20sw008.ipynb\" target=\"_parent\"><img src=\"https://colab.research.google.com/assets/colab-badge.svg\" alt=\"Open In Colab\"/></a>"
      ]
    },
    {
      "cell_type": "markdown",
      "source": [
        "LAB NO 4\n",
        "Section 2\n",
        "Roll NO 20sw008"
      ],
      "metadata": {
        "id": "IcFv97jXTqIZ"
      }
    },
    {
      "cell_type": "markdown",
      "source": [
        "Task No 1"
      ],
      "metadata": {
        "id": "4k3aoEdpT2KA"
      }
    },
    {
      "cell_type": "code",
      "source": [
        "import numpy as np\n",
        "\n",
        "#using the range function to generate the even numbers\n",
        "e_num = np.arange(2, 34, 2)\n",
        "\n",
        "X = e_num.reshape(4, 4)\n",
        "\n",
        "print(X)"
      ],
      "metadata": {
        "colab": {
          "base_uri": "https://localhost:8080/"
        },
        "id": "ZGI-3-D8T4c3",
        "outputId": "72399e83-47ac-4e1b-827b-7366cfd75f70"
      },
      "execution_count": 1,
      "outputs": [
        {
          "output_type": "stream",
          "name": "stdout",
          "text": [
            "[[ 2  4  6  8]\n",
            " [10 12 14 16]\n",
            " [18 20 22 24]\n",
            " [26 28 30 32]]\n"
          ]
        }
      ]
    },
    {
      "cell_type": "markdown",
      "source": [
        "Task No 2"
      ],
      "metadata": {
        "id": "g8vRIw1iT7Wf"
      }
    },
    {
      "cell_type": "code",
      "source": [
        "import numpy as np\n",
        "\n",
        "# Create a 5 x 5 ndarray with consecutive integers from 1 to 25\n",
        "X = np.arange(1, 26).reshape(5, 5)\n",
        "\n",
        "# Use Boolean indexing to pick out only the odd numbers\n",
        "Y = X[X % 2 != 0]\n",
        "\n",
        "#printing the origenal array\n",
        "print(\"Original array X:\\n\", X)\n",
        "\n",
        "#printing the odd numbers\n",
        "print(\"\\nArray Y with odd numbers:\\n\", Y)"
      ],
      "metadata": {
        "colab": {
          "base_uri": "https://localhost:8080/"
        },
        "id": "-hVWJmnTV8b9",
        "outputId": "1ffa5e83-717a-4075-b3be-d43e282cce27"
      },
      "execution_count": 2,
      "outputs": [
        {
          "output_type": "stream",
          "name": "stdout",
          "text": [
            "Original array X:\n",
            " [[ 1  2  3  4  5]\n",
            " [ 6  7  8  9 10]\n",
            " [11 12 13 14 15]\n",
            " [16 17 18 19 20]\n",
            " [21 22 23 24 25]]\n",
            "\n",
            "Array Y with odd numbers:\n",
            " [ 1  3  5  7  9 11 13 15 17 19 21 23 25]\n"
          ]
        }
      ]
    },
    {
      "cell_type": "markdown",
      "source": [
        "Task No 3"
      ],
      "metadata": {
        "id": "MjMZ2CUmV9Lr"
      }
    },
    {
      "cell_type": "code",
      "source": [
        "import numpy as np\n",
        "\n",
        "# Creating a 4 x 4 ndarray with columns of consecutive numbers\n",
        "X = np.arange(1, 5)\n",
        "\n",
        "# Using broadcasting to create the desired array\n",
        "X = X[:, np.newaxis] * np.ones((1, 4), dtype=int)\n",
        "\n",
        "#printing the array\n",
        "print(X)"
      ],
      "metadata": {
        "colab": {
          "base_uri": "https://localhost:8080/"
        },
        "id": "0PhWwq-hWEul",
        "outputId": "dc9630bc-b9de-4640-8747-083557b2345e"
      },
      "execution_count": 3,
      "outputs": [
        {
          "output_type": "stream",
          "name": "stdout",
          "text": [
            "[[1 1 1 1]\n",
            " [2 2 2 2]\n",
            " [3 3 3 3]\n",
            " [4 4 4 4]]\n"
          ]
        }
      ]
    },
    {
      "cell_type": "markdown",
      "source": [
        "Task No 4"
      ],
      "metadata": {
        "id": "NW9KxRoVWGTA"
      }
    },
    {
      "cell_type": "code",
      "source": [
        "import numpy as np\n",
        "\n",
        "# Create a random permutation of integers 0 to 4\n",
        "permuted_indices = np.random.permutation(5)\n",
        "\n",
        "# Create a 1000 x 20 ndarray with random integers in the half-open interval [0, 5001).\n",
        "X = np.random.randint(0, 5001, size=(1000, 20))\n",
        "\n",
        "# Create a rank 1 ndarray that contains a random permutation of the row indices of `X`\n",
        "row_indices = np.random.permutation(X.shape[0])\n",
        "\n",
        "# Make any necessary calculations.\n",
        "# You can save your calculations into variables to use later.\n",
        "\n",
        "# Create a Training Set\n",
        "X_train = X[row_indices[:700], :]\n",
        "\n",
        "# Create a Cross Validation Set\n",
        "X_crossVal = X[row_indices[700:850], :]\n",
        "\n",
        "# Create a Test Set\n",
        "X_test = X[row_indices[850:], :]\n",
        "\n",
        "# Print the shape of X_train\n",
        "print(\"Shape of X_train:\", X_train.shape)\n",
        "\n",
        "# Print the shape of X_crossVal\n",
        "print(\"Shape of X_crossVal:\", X_crossVal.shape)\n",
        "\n",
        "# Print the shape of X_test\n",
        "print(\"Shape of X_test:\", X_test.shape)"
      ],
      "metadata": {
        "colab": {
          "base_uri": "https://localhost:8080/"
        },
        "id": "uH5cA9kMWIXa",
        "outputId": "5c7952ad-cf36-46ce-a8cb-604d20778529"
      },
      "execution_count": 4,
      "outputs": [
        {
          "output_type": "stream",
          "name": "stdout",
          "text": [
            "Shape of X_train: (700, 20)\n",
            "Shape of X_crossVal: (150, 20)\n",
            "Shape of X_test: (150, 20)\n"
          ]
        }
      ]
    }
  ]
}